{
 "cells": [
  {
   "cell_type": "code",
   "execution_count": null,
   "id": "9d518531-c959-4c52-a536-d4bd4f634602",
   "metadata": {},
   "outputs": [],
   "source": []
  },
  {
   "cell_type": "markdown",
   "id": "be58d34e-e9da-442c-ad26-78508e23a394",
   "metadata": {},
   "source": [
    "1.データ準備"
   ]
  },
  {
   "cell_type": "code",
   "execution_count": 1,
   "id": "42618287-1350-4bc2-b171-4c28a6d97125",
   "metadata": {},
   "outputs": [],
   "source": [
    "#ライブラリのimport\n",
    "import pandas as pd\n",
    "import numpy as np\n",
    "%matplotlib inline\n",
    "import matplotlib.pyplot as plt"
   ]
  },
  {
   "cell_type": "markdown",
   "id": "98519df7-7383-43a1-a025-4af9a9a796ec",
   "metadata": {},
   "source": [
    "在庫推移MotionBoardよりデータ出力\n",
    "\n",
    "■目的\n",
    "\n",
    "■在庫推移MotionBoard\n",
    "http://10.88.11.58:18081/MBSF/main?id=b9154fd0-6fe6-d153-7d17-053da4c333ea&mbid=fidtnjir4nq3ja63cqcaaafmoqcx4&boardpath=%2FMSR%2F%E8%87%AA%E5%8B%95%E3%83%A9%E3%83%83%E3%82%AF%2FT403%E7%89%A9%E6%B5%81%E6%83%85%E5%A0%B1_%E5%9C%A8%E5%BA%AB%E6%8E%A8%E7%A7%BB"
   ]
  },
  {
   "cell_type": "code",
   "execution_count": 12,
   "id": "63be8316-b32f-4197-9d38-1a744d7fb969",
   "metadata": {},
   "outputs": [
    {
     "name": "stdin",
     "output_type": "stream",
     "text": [
      "何週分のデータを入力しますか？（数字で入力お願いします： 2\n",
      "1週目のファイル名を入力してください： a\n",
      "2週目のファイル名を入力してください： b\n"
     ]
    },
    {
     "name": "stdout",
     "output_type": "stream",
     "text": [
      "入力されたファイル名：\n",
      "a\n",
      "b\n"
     ]
    }
   ],
   "source": [
    "week = int(input(\"何週分のデータを入力しますか？（数字で入力お願いします：\"))\n",
    "\n",
    "week = int(input(\"何週分のデータを入力しますか？（数字で入力お願いします：\"))\n",
    "\n",
    "file_names = []\n",
    "for i in range(week):\n",
    "    file_name = input(f\"{i+1}週目のファイル名を入力してください：\")\n",
    "    file_names.append(file_name)\n",
    "print(\"入力されたファイル名：\")\n",
    "for fname in file_names:\n",
    "    print(fname)"
   ]
  },
  {
   "cell_type": "code",
   "execution_count": null,
   "id": "357f526e-0e0e-4673-b2e8-411c4c710c46",
   "metadata": {},
   "outputs": [],
   "source": [
    "for i in range(filenames):\n",
    "    data[i] = pd.read_csv(file_names[i], encoding='shift-jis')"
   ]
  },
  {
   "cell_type": "code",
   "execution_count": null,
   "id": "17f01655-f92a-4fc6-b2e2-efb2afb636ae",
   "metadata": {},
   "outputs": [],
   "source": [
    "# Load the data from the CSV file\n",
    "file_path = 'data.csv'\n",
    "data = pd.read_csv(file_path, encoding='shift-jis')"
   ]
  },
  {
   "cell_type": "code",
   "execution_count": null,
   "id": "8e2c2fe2-804f-44a8-9be7-c8f3e6c32f6c",
   "metadata": {},
   "outputs": [],
   "source": [
    "file_name = 'data.csv'\n",
    "ppyt\n",
    "\n",
    "# Try reading the file with 'Shift_JIS' encoding\n",
    "df_shiftjis_1 = pd.read_csv('20231107使用_在庫推移9月.csv', encoding='Shift_JIS')\n",
    "# Load the new CSV file into a DataFrame with 'Shift_JIS' encoding\n",
    "df_shiftjis_2 = pd.read_csv('在庫推移8月4週目.csv', encoding='Shift_JIS')\n",
    "# Combine the old and new data\n",
    "df_shiftjis = pd.concat([df_shiftjis_1, df_shiftjis_2], ignore_index=True, sort=False)\n",
    "\n",
    "# 集計したデータをCSVファイルに保存\n",
    "with open('20231107使用_在庫推移9月（8月4週目含む）.csv', mode='w',newline='', encoding='shift_jis',errors='ignore') as f:\n",
    "    df_shiftjis.to_csv(f)"
   ]
  }
 ],
 "metadata": {
  "kernelspec": {
   "display_name": "Python 3 (ipykernel)",
   "language": "python",
   "name": "python3"
  },
  "language_info": {
   "codemirror_mode": {
    "name": "ipython",
    "version": 3
   },
   "file_extension": ".py",
   "mimetype": "text/x-python",
   "name": "python",
   "nbconvert_exporter": "python",
   "pygments_lexer": "ipython3",
   "version": "3.7.9"
  }
 },
 "nbformat": 4,
 "nbformat_minor": 5
}
